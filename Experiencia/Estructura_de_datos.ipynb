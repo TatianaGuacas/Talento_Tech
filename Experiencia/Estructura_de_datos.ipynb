{
  "nbformat": 4,
  "nbformat_minor": 0,
  "metadata": {
    "colab": {
      "provenance": []
    },
    "kernelspec": {
      "name": "python3",
      "display_name": "Python 3"
    },
    "language_info": {
      "name": "python"
    }
  },
  "cells": [
    {
      "cell_type": "markdown",
      "source": [
        "\n",
        "#ESTRUCTURAS DE DATOS"
      ],
      "metadata": {
        "id": "ZtHSsjHCJFvS"
      }
    },
    {
      "cell_type": "code",
      "execution_count": null,
      "metadata": {
        "colab": {
          "base_uri": "https://localhost:8080/"
        },
        "id": "fOP37pkYJEKq",
        "outputId": "70687b10-008f-4ac7-89db-433a8cabe60e",
        "collapsed": true
      },
      "outputs": [
        {
          "output_type": "stream",
          "name": "stdout",
          "text": [
            "LISTAS:\n",
            "lista_compras =  ['huevos', 'pan', 'café', 'ázucar', 'sal']\n",
            "lista_estudiantes =  ['Ana', 'Daniel', 'Luis', 'Carolina', 'Juan'] \n",
            "\n",
            "TUPLA:\n",
            "tupla_ID =  ('14598', '28934', '85674', '84390', '38567')\n",
            "tupla_notas =  ('5.0', '4.8', '3.5', '3.0', '4.0') \n",
            "\n",
            "CONJUNTOS:\n",
            "conjunto_numero_primo =  {2, 3, 5, 7, 11, 13}\n",
            "conjunto_numero_impar =  {1, 3, 5, 7, 9, 11, 13} \n",
            "\n",
            "UNION:\n",
            "{1, 2, 3, 5, 7, 9, 11, 13} \n",
            "\n",
            "INTERSECCIÓN:\n",
            "{3, 5, 7, 11, 13} \n",
            "\n",
            "DIFERENCIA:\n",
            "{2} \n",
            "\n",
            "DIFERENCIA SIMÉTRICA:\n",
            "{1, 2, 9} \n",
            "\n",
            "COMPLEMENTO:\n",
            "conjunto_universal =  {1, 2, 3, 4, 5, 6, 7, 8, 9, 10, 11, 12, 13, 14}\n",
            "Complemento de conjunto_numero_primo = {2, 3, 5, 7, 11, 13} es {1, 4, 6, 8, 9, 10, 12, 14}\n",
            "Complemento de conjunto_numero_impar = {1, 3, 5, 7, 9, 11, 13} es {2, 4, 6, 8, 10, 12, 14} \n",
            "\n",
            "DICCIONARIOS:\n",
            "diccionario_datos_personales =  {'nombres': ['Andrea', 'Santiago', 'Luis'], 'apellidos': ['García', 'Fernandez', 'Alonso'], 'edad': [22, 25, 28]}\n",
            "diccionario_estudiantes =  {'nombre completo': ['Ana Fernandez', 'Camila Ulloa'], 'Nota_1': [4.0, 3.0], 'Nota_2': [3.7, 3.3], 'Nota_3': [4.5, 4.2]}\n"
          ]
        }
      ],
      "source": [
        "#LISTA\n",
        "print(\"LISTAS:\")\n",
        "lista_compras = [\"huevos\",\"pan\",\"café\",\"ázucar\",\"sal\"]\n",
        "print (\"lista_compras = \",lista_compras)\n",
        "\n",
        "lista_estudiantes=[\"Ana\",\"Daniel\",\"Luis\",\"Carolina\",\"Juan\"]\n",
        "print (\"lista_estudiantes = \", lista_estudiantes, '\\n')\n",
        "\n",
        "#TUPLA\n",
        "print(\"TUPLA:\")\n",
        "tupla_ID = (\"14598\",\"28934\",\"85674\",\"84390\",\"38567\")\n",
        "print (\"tupla_ID = \",tupla_ID)\n",
        "\n",
        "tupla_notas = (\"5.0\",\"4.8\",\"3.5\",\"3.0\",\"4.0\")\n",
        "print (\"tupla_notas = \",tupla_notas, '\\n')\n",
        "\n",
        "#CONJUNTOS\n",
        "print(\"CONJUNTOS:\")\n",
        "conjunto_numero_primo = {2,3,5,7,11,13}\n",
        "print (\"conjunto_numero_primo = \", conjunto_numero_primo)\n",
        "\n",
        "conjunto_numero_impar ={1,3,5,7,9,11,13}\n",
        "print (\"conjunto_numero_impar = \",conjunto_numero_impar,'\\n')\n",
        "\n",
        "    #OPERACIONES\n",
        "#UNIÓN  Combina todos los elementos de ambos conjuntos, sin duplicados.\n",
        "print(\"UNION:\")\n",
        "#union= conjunto_numero_primo | conjunto_numero_impar\n",
        "union= conjunto_numero_primo.union(conjunto_numero_impar)\n",
        "print(union, '\\n')\n",
        "\n",
        "#INTERSECCIÓN Elementos que están en ambos conjuntos.\n",
        "print(\"INTERSECCIÓN:\")\n",
        "#interseccion=conjunto_numero_primo & conjunto_numero_impar\n",
        "interseccion=conjunto_numero_primo.intersection(conjunto_numero_impar)\n",
        "print(interseccion,'\\n')\n",
        "\n",
        "#DIFERENCIA Elementos que están en primero (A) pero no en segundo (B)\n",
        "print(\"DIFERENCIA:\")\n",
        "#diferencia=conjunto_numero_primo - conjunto_numero_impar\n",
        "diferencia=conjunto_numero_primo.difference(conjunto_numero_impar)\n",
        "print(diferencia,'\\n')\n",
        "\n",
        "#DIFERENCIA SIMÉTRICA Elementos que están en A o en B, pero no en ambos\n",
        "print(\"DIFERENCIA SIMÉTRICA:\")\n",
        "#diferencia_sim=conjunto_numero_primo ^ conjunto_numero_impar\n",
        "diferencia_sim=conjunto_numero_primo.symmetric_difference(conjunto_numero_impar)\n",
        "print(diferencia_sim,'\\n')\n",
        "\n",
        "#COMPLEMENTO se calcula respecto a un universo de elementos.\n",
        "print(\"COMPLEMENTO:\")\n",
        "conjunto_universal={1,2,3,4,5,6,7,8,9,10,11,12,13,14}\n",
        "print(\"conjunto_universal = \",conjunto_universal)\n",
        "\n",
        "#complemento_1= conjunto_universal- conjunto_numero_primo\n",
        "complemento_1=conjunto_universal.difference(conjunto_numero_primo)\n",
        "print(f\"Complemento de conjunto_numero_primo = {conjunto_numero_primo} es {complemento_1}\")\n",
        "\n",
        "#complemento_2= conjunto_universal- conjunto_numero_impar\n",
        "complemento_2=conjunto_universal.difference(conjunto_numero_impar)\n",
        "print(f\"Complemento de conjunto_numero_impar = {conjunto_numero_impar} es {complemento_2} \\n\")\n",
        "\n",
        "#DICCIONARIOS\n",
        "print(\"DICCIONARIOS:\")\n",
        "diccionario_datos_personales={\"nombres\":[\"Andrea\", \"Santiago\", \"Luis\" ], \"apellidos\":[\"García\", \"Fernandez\", \"Alonso\"] , \"edad\":[22, 25, 28]}\n",
        "print (\"diccionario_datos_personales = \",diccionario_datos_personales)\n",
        "\n",
        "diccionario_estudiantes ={\"nombre completo\":[\"Ana Fernandez\", \"Camila Ulloa\"], \"Nota_1\":[4.0 , 3.0], \"Nota_2\":[3.7 , 3.3] , \"Nota_3\":[4.5 , 4.2]}\n",
        "print (\"diccionario_estudiantes = \",diccionario_estudiantes)\n"
      ]
    },
    {
      "cell_type": "markdown",
      "source": [
        "##CONVERTIR DICCIONARIO A DATAFRAME"
      ],
      "metadata": {
        "id": "3js23vhtlrvo"
      }
    },
    {
      "cell_type": "code",
      "source": [
        "import pandas as pd\n",
        "\n",
        "#DICCIONARIOS\n",
        "diccionario_datos_personales={\"Nombres\":[\"Andrea\", \"Santiago\", \"Luis\"],\n",
        "                              \"Apellidos\":[\"García\", \"Fernandez\", \"Alonso\"],\n",
        "                              \"Edad\":[22, 25, 28],\n",
        "                              \"Ciudad\":[\"Cali\", \"Bogotá\", \"Medellín\"]}\n",
        "#dataframe_datos_personales= pd.DataFrame.from_dict(diccionario_datos_personales, index =[\"Cliente 1\",\"Cliente 2\", \"Cliente 3\"]) POR QUÉ INDEX NO ME DA?\n",
        "dataframe_datos_personales= pd.DataFrame(diccionario_datos_personales, index =[\"Cliente 1\",\"Cliente 2\", \"Cliente 3\"])\n",
        "print (\"Dataframe de datos personales \\n\", dataframe_datos_personales, '\\n')\n",
        "\n",
        "diccionario_estudiantes ={\"Nombre completo\":[\"Ana Fernandez\", \"Camila Ulloa\"],\n",
        "                          \"Nota_1\":[4.0 , 3.0],\n",
        "                          \"Nota_2\":[3.7 , 3.3],\n",
        "                          \"Nota_3\":[4.5 , 4.2]}\n",
        "dataframe_estudiantes=pd.DataFrame(diccionario_estudiantes, index =[\"Estudiante 1\",\"Estudiante 2\"])\n",
        "print(\"Dataframe de estudiantes \\n\", dataframe_estudiantes, '\\n')\n"
      ],
      "metadata": {
        "colab": {
          "base_uri": "https://localhost:8080/"
        },
        "id": "24gX5RqLlwo8",
        "outputId": "af4cbf0d-06cb-43ab-d238-67aeeed195b6"
      },
      "execution_count": null,
      "outputs": [
        {
          "output_type": "stream",
          "name": "stdout",
          "text": [
            "Dataframe de datos personales \n",
            "             Nombres  Apellidos  Edad    Ciudad\n",
            "Cliente 1    Andrea     García    22      Cali\n",
            "Cliente 2  Santiago  Fernandez    25    Bogotá\n",
            "Cliente 3      Luis     Alonso    28  Medellín \n",
            "\n",
            "Dataframe de estudiantes \n",
            "              Nombre completo  Nota_1  Nota_2  Nota_3\n",
            "Estudiante 1   Ana Fernandez     4.0     3.7     4.5\n",
            "Estudiante 2    Camila Ulloa     3.0     3.3     4.2 \n",
            "\n"
          ]
        }
      ]
    },
    {
      "cell_type": "markdown",
      "source": [
        "##RECORRER CADA ESTRUCTURA CON CICLO FOR"
      ],
      "metadata": {
        "id": "d2wpuKt3yKmy"
      }
    },
    {
      "cell_type": "code",
      "source": [
        "print(\"Recorriendo lista_compras:\")\n",
        "for producto in lista_compras :\n",
        "    print(f\"- {producto}\")\n",
        "\n",
        "'''\n",
        "lista_compras es la lista que queremos recorrer.\n",
        "producto es la variable que tomará el valor de cada elemento de la lista en cada vuelta del ciclo.\n",
        "print(producto) muestra el valor actual de producto en cada iteración\n",
        "'''\n",
        "\n",
        "print(\"\\n Recorriendo tupla_ID con tupla_notas:\")\n",
        "for ID, nota in zip(tupla_ID, tupla_notas):\n",
        "  print(f'{ID} sacó {nota} en el primer corte')\n",
        "#Recorrer dos listas a la vez: La función zip() permite iterar sobre dos o más listas simultáneamente\n",
        "\n",
        "print(\"\\n Recorrer conjunto_numero_primo\")\n",
        "for numero_primo in conjunto_numero_primo:\n",
        "  print(f'Numero primo: {numero_primo}')\n",
        "\n",
        "print(\"\\nRecorriendo diccionario_datos_personales:\")\n",
        "for clave, valor in diccionario_datos_personales.items():\n",
        "    print(f\"{clave}: {valor}\")\n",
        "\n",
        "import pandas as pd\n",
        "\n",
        "df = pd.DataFrame(diccionario_datos_personales, index=[\"Cliente 1\", \"Cliente 2\", \"Cliente 3\"])\n",
        "print(\"\\nRecorriendo DataFrame:\")\n",
        "for indice, fila in df.iterrows():\n",
        "    print(f\"{indice} → {fila['Nombres']} {fila['Apellidos']} ({fila['Edad']} años)\")"
      ],
      "metadata": {
        "colab": {
          "base_uri": "https://localhost:8080/"
        },
        "id": "Wss2Jc7OyNoi",
        "outputId": "73ba2276-d54a-4d8c-90ec-5e79b0378e2a"
      },
      "execution_count": null,
      "outputs": [
        {
          "output_type": "stream",
          "name": "stdout",
          "text": [
            "Recorriendo lista_compras:\n",
            "- huevos\n",
            "- pan\n",
            "- café\n",
            "- ázucar\n",
            "- sal\n",
            "\n",
            " Recorriendo tupla_ID con tupla_notas:\n",
            "14598 sacó 5.0 en el primer corte\n",
            "28934 sacó 4.8 en el primer corte\n",
            "85674 sacó 3.5 en el primer corte\n",
            "84390 sacó 3.0 en el primer corte\n",
            "38567 sacó 4.0 en el primer corte\n",
            "\n",
            " Recorrer conjunto_numero_primo\n",
            "Numero primo: 2\n",
            "Numero primo: 3\n",
            "Numero primo: 5\n",
            "Numero primo: 7\n",
            "Numero primo: 11\n",
            "Numero primo: 13\n",
            "\n",
            "Recorriendo diccionario_datos_personales:\n",
            "Nombres: ['Andrea', 'Santiago', 'Luis']\n",
            "Apellidos: ['García', 'Fernandez', 'Alonso']\n",
            "Edad: [22, 25, 28]\n",
            "Ciudad: ['Cali', 'Bogotá', 'Medellín']\n",
            "\n",
            "Recorriendo DataFrame:\n",
            "Cliente 1 → Andrea García (22 años)\n",
            "Cliente 2 → Santiago Fernandez (25 años)\n",
            "Cliente 3 → Luis Alonso (28 años)\n"
          ]
        }
      ]
    },
    {
      "cell_type": "markdown",
      "source": [
        "##RECORRER DATAFRAME CON CICLO FOR"
      ],
      "metadata": {
        "id": "e2JCWDQZ8cAi"
      }
    },
    {
      "cell_type": "code",
      "source": [
        "#RECORRER FILAS COMPLETAS\n",
        "for indice, fila in dataframe_datos_personales.iterrows():\n",
        "    print(f\"{indice}: {fila['Nombres']} {fila['Apellidos']} - {fila['Edad']} años\")\n",
        "'''\n",
        "iterrows() devuelve un generador que, en cada iteración, da: el indice → el número o etiqueta de la fila y lo que contiene la fila\n",
        "Se usas cuando necesitas trabajar con toda la información de una fila a la vez (por ejemplo, para cálculos fila a fila).\n",
        "'''\n",
        "\n",
        "#RECORRER COLUMNA POR COLUMNA\n",
        "for columna in dataframe_datos_personales.columns:\n",
        "    print(f\"\\n Columna: {columna}\")\n",
        "    print(dataframe_datos_personales[columna], '\\n')\n",
        "'''\n",
        ".columns devuelve una lista con los nombres de todas las columnas.\n",
        "En cada iteración, df[columna] accede a todos los valores de esa columna.\n",
        "Se usas cuando quieres procesar o analizar los datos por columnas (por ejemplo, obtener estadísticas de una sola variable).\n",
        "'''\n",
        "\n",
        "#RECORRER CELDA POR CELDA\n",
        "for indice, fila in dataframe_datos_personales.iterrows():\n",
        "  for columna in dataframe_datos_personales.columns:\n",
        "    print(f\"{indice} - {columna}: {fila[columna]}\")\n",
        "\n",
        "#El primer for recorre cada columna del DataFrame. El segundo for recorre cada valor dentro de esa columna. Así, se accede a cada celda individualmente\n",
        "#Se usa cuando necesitas aplicar un proceso o validación a cada valor de forma independiente.\n"
      ],
      "metadata": {
        "colab": {
          "base_uri": "https://localhost:8080/"
        },
        "id": "eO-bqbur2xVc",
        "outputId": "6f8bfa4e-e620-4766-e42f-172f6785d6f9"
      },
      "execution_count": null,
      "outputs": [
        {
          "output_type": "stream",
          "name": "stdout",
          "text": [
            "Cliente 1: Andrea García - 22 años\n",
            "Cliente 2: Santiago Fernandez - 25 años\n",
            "Cliente 3: Luis Alonso - 28 años\n",
            "\n",
            " Columna: Nombres\n",
            "Cliente 1      Andrea\n",
            "Cliente 2    Santiago\n",
            "Cliente 3        Luis\n",
            "Name: Nombres, dtype: object \n",
            "\n",
            "\n",
            " Columna: Apellidos\n",
            "Cliente 1       García\n",
            "Cliente 2    Fernandez\n",
            "Cliente 3       Alonso\n",
            "Name: Apellidos, dtype: object \n",
            "\n",
            "\n",
            " Columna: Edad\n",
            "Cliente 1    22\n",
            "Cliente 2    25\n",
            "Cliente 3    28\n",
            "Name: Edad, dtype: int64 \n",
            "\n",
            "\n",
            " Columna: Ciudad\n",
            "Cliente 1        Cali\n",
            "Cliente 2      Bogotá\n",
            "Cliente 3    Medellín\n",
            "Name: Ciudad, dtype: object \n",
            "\n",
            "Cliente 1 - Nombres: Andrea\n",
            "Cliente 1 - Apellidos: García\n",
            "Cliente 1 - Edad: 22\n",
            "Cliente 1 - Ciudad: Cali\n",
            "Cliente 2 - Nombres: Santiago\n",
            "Cliente 2 - Apellidos: Fernandez\n",
            "Cliente 2 - Edad: 25\n",
            "Cliente 2 - Ciudad: Bogotá\n",
            "Cliente 3 - Nombres: Luis\n",
            "Cliente 3 - Apellidos: Alonso\n",
            "Cliente 3 - Edad: 28\n",
            "Cliente 3 - Ciudad: Medellín\n"
          ]
        }
      ]
    }
  ]
}
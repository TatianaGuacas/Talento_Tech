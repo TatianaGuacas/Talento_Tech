{
  "nbformat": 4,
  "nbformat_minor": 0,
  "metadata": {
    "colab": {
      "provenance": []
    },
    "kernelspec": {
      "name": "python3",
      "display_name": "Python 3"
    },
    "language_info": {
      "name": "python"
    }
  },
  "cells": [
    {
      "cell_type": "code",
      "source": [
        "#EJEMPLO\n",
        "import pandas as pd\n",
        "import numpy as np\n",
        "from scipy import stats\n",
        "\n",
        "#Datos\n",
        "Edad =[23, 20, 25, 35, 30, 22, 33, 38, 23, 25, 29, 40, 45, 50, 35, 23, 28, 37, 21, 22, 22, 25]\n"
      ],
      "metadata": {
        "id": "YYdEovYFT5Ae"
      },
      "execution_count": null,
      "outputs": []
    },
    {
      "cell_type": "code",
      "execution_count": null,
      "metadata": {
        "colab": {
          "base_uri": "https://localhost:8080/"
        },
        "id": "LeseZclMS6Ml",
        "outputId": "78a610a4-eaf8-445b-9959-439ebcb24747"
      },
      "outputs": [
        {
          "output_type": "stream",
          "name": "stdout",
          "text": [
            "29.59090909090909\n"
          ]
        }
      ],
      "source": [
        "#Media\n",
        "media = np.mean(Edad)\n",
        "print(media)"
      ]
    },
    {
      "cell_type": "code",
      "source": [
        "#Mediana\n",
        "mediana = np.median(Edad)\n",
        "print(mediana)"
      ],
      "metadata": {
        "colab": {
          "base_uri": "https://localhost:8080/"
        },
        "id": "YuMh8xNeU3Ul",
        "outputId": "fb3e1288-22df-48b3-b349-ef2c2aa9272f"
      },
      "execution_count": null,
      "outputs": [
        {
          "output_type": "stream",
          "name": "stdout",
          "text": [
            "26.5\n"
          ]
        }
      ]
    },
    {
      "cell_type": "code",
      "source": [
        "#Moda\n",
        "moda = stats.mode(Edad)\n",
        "print(moda)"
      ],
      "metadata": {
        "colab": {
          "base_uri": "https://localhost:8080/"
        },
        "id": "4uBhiWZ0U8yI",
        "outputId": "fb1db742-00d9-42c4-854d-1805c78d6f6e"
      },
      "execution_count": null,
      "outputs": [
        {
          "output_type": "stream",
          "name": "stdout",
          "text": [
            "ModeResult(mode=np.int64(22), count=np.int64(3))\n"
          ]
        }
      ]
    },
    {
      "cell_type": "code",
      "source": [
        "#Desviación estándar\n",
        "desviacion_estandar = np.std(Edad)\n",
        "print(desviacion_estandar)\n",
        "\n",
        "#Dispersión de datos. Baja es que mayoría se acerca a media\n",
        "#y alta es que se distribuyen en rango más amplio\n",
        "#Mayoría de datos están alejados 8.23 de la media 29.59"
      ],
      "metadata": {
        "colab": {
          "base_uri": "https://localhost:8080/"
        },
        "id": "ZQpzE2PRVPsF",
        "outputId": "739e6870-83e3-4b0b-fb57-efa92ad13c84"
      },
      "execution_count": null,
      "outputs": [
        {
          "output_type": "stream",
          "name": "stdout",
          "text": [
            "8.238816612448279\n"
          ]
        }
      ]
    },
    {
      "cell_type": "code",
      "source": [
        "#Percentil\n",
        "p25 = np.percentile(Edad, 25)  # percentil 25\n",
        "p50 = np.percentile(Edad, 50)  # percentil 50 (igual a mediana)\n",
        "p75 = np.percentile(Edad, 75)  # percentil 75\n",
        "\n",
        "print(f\"Percentil 25 es: {p25}\")\n",
        "print(f\"Percentil 50 es: {p50}\")\n",
        "print(f\"Percentil 75 es: {p75}\")"
      ],
      "metadata": {
        "colab": {
          "base_uri": "https://localhost:8080/"
        },
        "id": "PUQVUwX3W-Ox",
        "outputId": "83b80be1-6370-4e73-eec5-d9ec3de0c910"
      },
      "execution_count": null,
      "outputs": [
        {
          "output_type": "stream",
          "name": "stdout",
          "text": [
            "Percentil 25 es: 23.0\n",
            "Percentil 50 es: 26.5\n",
            "Percentil 75 es: 35.0\n"
          ]
        }
      ]
    },
    {
      "cell_type": "markdown",
      "source": [
        "#Distribución de datos"
      ],
      "metadata": {
        "id": "SglC-gR-ZAZn"
      }
    },
    {
      "cell_type": "code",
      "source": [
        "x = np.random.uniform(0.0, 5.0, 50)\n",
        "\n",
        "print(x)\n",
        "\n",
        "#Crear grandes volumenes de datos aleatorios para testear"
      ],
      "metadata": {
        "colab": {
          "base_uri": "https://localhost:8080/"
        },
        "id": "OWt39KDnZEAq",
        "outputId": "ad7f3b70-dbbb-41af-a506-f17c80f51a12"
      },
      "execution_count": null,
      "outputs": [
        {
          "output_type": "stream",
          "name": "stdout",
          "text": [
            "[0.36815653 4.56691703 1.13703126 3.17680602 0.75154851 0.33848213\n",
            " 1.33293359 3.34694652 4.44380489 0.66418942 3.20649028 0.65418288\n",
            " 1.10650593 3.9044895  0.19741226 3.11376055 0.12157547 0.14991577\n",
            " 4.0387469  0.52350794 3.38986936 2.6533592  2.5299773  0.35719612\n",
            " 2.88756109 2.0918442  3.36726021 4.9950607  2.38791221 0.65281081\n",
            " 1.22843949 2.6449082  4.83250212 4.68455354 3.82391086 3.20448659\n",
            " 1.27694256 4.59336999 4.49571376 2.76198587 4.74066357 1.56926838\n",
            " 0.84314541 0.93940526 4.64478193 1.90608959 3.64457947 0.65488166\n",
            " 3.43250253 4.10286737]\n"
          ]
        }
      ]
    },
    {
      "cell_type": "code",
      "source": [
        "#Histograma\n",
        "import matplotlib.pyplot as plt   #se usa para graficar\n",
        "\n",
        "#plt.hist(x,5)    #Dibuja histograma a partir de datos en variable x, numero de intervalos\n",
        "                 #en los que se dividirán los datos [20-22], [22-24]...\n",
        "plt.hist(x, 5, color=\"skyblue\", edgecolor=\"black\")\n",
        "plt.title(\"Histograma de Edades\")\n",
        "plt.xlabel(\"Edad\")\n",
        "plt.ylabel(\"Frecuencia\")\n",
        "plt.show()"
      ],
      "metadata": {
        "colab": {
          "base_uri": "https://localhost:8080/",
          "height": 472
        },
        "id": "T5KzypRRZV4D",
        "outputId": "6ea72051-4ce5-4e3c-8f6c-43694c6324bc"
      },
      "execution_count": null,
      "outputs": [
        {
          "output_type": "display_data",
          "data": {
            "text/plain": [
              "<Figure size 640x480 with 1 Axes>"
            ],
            "image/png": "[encoded data removed]"
          },
          "metadata": {}
        }
      ]
    },
    {
      "cell_type": "code",
      "source": [
        "#Elegir los intervalos (bins) automáticamente\n",
        "#Con bins =\"auto\". suele ser suficiente para análisis exploratorio\n",
        "plt.hist(x, bins=\"auto\", color=\"lightgreen\", edgecolor=\"black\")\n",
        "\n",
        "plt.title(\"Histograma con bins automáticos\")\n",
        "plt.xlabel(\"Edad\")\n",
        "plt.ylabel(\"Frecuencia\")\n",
        "plt.show()"
      ],
      "metadata": {
        "colab": {
          "base_uri": "https://localhost:8080/",
          "height": 472
        },
        "id": "RLAVi5jebH2U",
        "outputId": "70345220-90b3-405b-d5fd-d4f863b4a70e"
      },
      "execution_count": null,
      "outputs": [
        {
          "output_type": "display_data",
          "data": {
            "text/plain": [
              "<Figure size 640x480 with 1 Axes>"
            ],
            "image/png": "[encoded data removed]"
          },
          "metadata": {}
        }
      ]
    }
  ]
}